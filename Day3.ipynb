{
 "cells": [
  {
   "cell_type": "code",
   "execution_count": null,
   "id": "39f10e16-430e-4733-84ae-3672f73d8807",
   "metadata": {},
   "outputs": [],
   "source": [
    "with open('output.txt','w') as file:\n",
    "          file.write(\"hello,world\")"
   ]
  },
  {
   "cell_type": "code",
   "execution_count": null,
   "id": "ad0bfdc1-80e7-4bed-be3d-84dab41d392e",
   "metadata": {},
   "outputs": [],
   "source": [
    "lins =[\"first line\\n\",\"Second line\\n\",\"third line\\n\"]\n",
    "       with open('output.txt','w')as file:\n",
    "           file.writelines(lines)"
   ]
  },
  {
   "cell_type": "code",
   "execution_count": 4,
   "id": "64042715-fee4-4723-9ddf-661f208d0053",
   "metadata": {},
   "outputs": [],
   "source": [
    "with open('output.txt','a')as file:\n",
    "    file.write(\"Appending a new line.\")"
   ]
  },
  {
   "cell_type": "code",
   "execution_count": 5,
   "id": "3a6e1630-73e6-4df9-a143-3707aa4cffd3",
   "metadata": {},
   "outputs": [
    {
     "name": "stdout",
     "output_type": "stream",
     "text": [
      "Appending a new line.\n"
     ]
    }
   ],
   "source": [
    "with open('output.txt','r')as file:\n",
    "    content = file.read()\n",
    "    print(content)"
   ]
  },
  {
   "cell_type": "code",
   "execution_count": 1,
   "id": "9db35ceb-5240-47a4-8d76-795a7c05e611",
   "metadata": {},
   "outputs": [],
   "source": [
    "with open('C:\\\\Users\\\\alras\\\\OneDrive\\\\الصور\\\\klematis_big.jpg','rb')as file:\n",
    "    binary_date = file.read()\n",
    "with open ('C:\\\\Users\\\\alras\\\\OneDrive\\\\الصور\\\\aklematis_big.jpg','wb')as new_file:\n",
    "    new_file.write(binary_date)"
   ]
  },
  {
   "cell_type": "code",
   "execution_count": null,
   "id": "b0a8c5fc-62bd-47f3-bbaf-a66ddb6ea8c5",
   "metadata": {},
   "outputs": [],
   "source": []
  }
 ],
 "metadata": {
  "kernelspec": {
   "display_name": "Python 3 (ipykernel)",
   "language": "python",
   "name": "python3"
  },
  "language_info": {
   "codemirror_mode": {
    "name": "ipython",
    "version": 3
   },
   "file_extension": ".py",
   "mimetype": "text/x-python",
   "name": "python",
   "nbconvert_exporter": "python",
   "pygments_lexer": "ipython3",
   "version": "3.12.7"
  }
 },
 "nbformat": 4,
 "nbformat_minor": 5
}
