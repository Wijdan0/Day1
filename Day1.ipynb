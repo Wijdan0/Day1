{
 "cells": [
  {
   "cell_type": "code",
   "execution_count": 3,
   "id": "6bd81f80-84e1-47ab-89db-4c57d08ddb88",
   "metadata": {},
   "outputs": [
    {
     "data": {
      "text/plain": [
       "int"
      ]
     },
     "execution_count": 3,
     "metadata": {},
     "output_type": "execute_result"
    }
   ],
   "source": [
    "x= 5\n",
    "type(x)"
   ]
  },
  {
   "cell_type": "code",
   "execution_count": 4,
   "id": "ab3ec345-f6d3-4499-83e1-83bcb4204312",
   "metadata": {},
   "outputs": [
    {
     "data": {
      "text/plain": [
       "float"
      ]
     },
     "execution_count": 4,
     "metadata": {},
     "output_type": "execute_result"
    }
   ],
   "source": [
    "y=3.1\n",
    "type(y)"
   ]
  },
  {
   "cell_type": "code",
   "execution_count": 5,
   "id": "929eacce-4217-44a6-b48e-17d378e09c86",
   "metadata": {},
   "outputs": [
    {
     "data": {
      "text/plain": [
       "str"
      ]
     },
     "execution_count": 5,
     "metadata": {},
     "output_type": "execute_result"
    }
   ],
   "source": [
    "name=\"wijdan\"\n",
    "type(name)"
   ]
  },
  {
   "cell_type": "code",
   "execution_count": 8,
   "id": "b248b5fb-7571-476e-8c1a-ad6df580bb54",
   "metadata": {},
   "outputs": [
    {
     "data": {
      "text/plain": [
       "bool"
      ]
     },
     "execution_count": 8,
     "metadata": {},
     "output_type": "execute_result"
    }
   ],
   "source": [
    "is_active=True\n",
    "type(is_active)"
   ]
  },
  {
   "cell_type": "code",
   "execution_count": 15,
   "id": "47740f7c-d113-46c3-8e36-8977bc0f6250",
   "metadata": {},
   "outputs": [
    {
     "name": "stdout",
     "output_type": "stream",
     "text": [
      "x + y =3\n",
      "10 + 20 =30\n"
     ]
    }
   ],
   "source": [
    "x=1\n",
    "y=2\n",
    "z = x+y\n",
    "print(f\"x + y ={z}\")\n",
    "s=10+20\n",
    "print(f\"10 + 20 ={s}\")"
   ]
  },
  {
   "cell_type": "code",
   "execution_count": 31,
   "id": "00e7ec8f-2feb-4e8c-bd04-23afd12ea782",
   "metadata": {},
   "outputs": [
    {
     "data": {
      "text/plain": [
       "False"
      ]
     },
     "execution_count": 31,
     "metadata": {},
     "output_type": "execute_result"
    }
   ],
   "source": [
    "x=3\n",
    "y=0\n",
    "x<y"
   ]
  },
  {
   "cell_type": "code",
   "execution_count": 30,
   "id": "07648883-af7e-4ee7-a24b-8f7527f61d97",
   "metadata": {},
   "outputs": [
    {
     "data": {
      "text/plain": [
       "True"
      ]
     },
     "execution_count": 30,
     "metadata": {},
     "output_type": "execute_result"
    }
   ],
   "source": [
    "a=30\n",
    "b=10\n",
    "(a>b)and(10>=9)"
   ]
  },
  {
   "cell_type": "code",
   "execution_count": 40,
   "id": "eef3bf4d-2f02-4173-b1ef-b819cca48b5d",
   "metadata": {},
   "outputs": [
    {
     "name": "stdout",
     "output_type": "stream",
     "text": [
      "x is greater than 5\n"
     ]
    }
   ],
   "source": [
    "x=10\n",
    "if x >5:\n",
    "    print(\"x is greater than 5\")"
   ]
  },
  {
   "cell_type": "code",
   "execution_count": 41,
   "id": "e913a455-5979-4da4-bc40-ac65c3be931a",
   "metadata": {},
   "outputs": [
    {
     "name": "stdout",
     "output_type": "stream",
     "text": [
      "x is less than 5\n"
     ]
    }
   ],
   "source": [
    "x=4\n",
    "if x >5:\n",
    "    print(\"x is greater than 5\")\n",
    "else:\n",
    "    print(\"x is less than 5\")"
   ]
  },
  {
   "cell_type": "code",
   "execution_count": 44,
   "id": "59c70002-54d5-44d2-924f-4bf523c55b5a",
   "metadata": {},
   "outputs": [
    {
     "name": "stdout",
     "output_type": "stream",
     "text": [
      "x is less than 10\n"
     ]
    }
   ],
   "source": [
    "x=9\n",
    "if x <5:\n",
    "    print(\"x is less than 5\")\n",
    "elif x >10:\n",
    "    print(\"x is greater than 10\")\n",
    "else:\n",
    "    print(\"x is less than 10\")"
   ]
  },
  {
   "cell_type": "code",
   "execution_count": 45,
   "id": "6f8fa26a-edb7-4dab-9719-2623446370dd",
   "metadata": {},
   "outputs": [
    {
     "name": "stdout",
     "output_type": "stream",
     "text": [
      "0\n",
      "1\n",
      "2\n",
      "3\n",
      "4\n"
     ]
    }
   ],
   "source": [
    "for i in range(5):\n",
    "    print (i)"
   ]
  },
  {
   "cell_type": "code",
   "execution_count": 46,
   "id": "c365bee7-5927-455f-bf98-0ad881b1dabe",
   "metadata": {},
   "outputs": [
    {
     "name": "stdout",
     "output_type": "stream",
     "text": [
      "0\n",
      "1\n",
      "2\n",
      "3\n",
      "4\n"
     ]
    }
   ],
   "source": [
    "count = 0\n",
    "while count < 5:\n",
    "    print(count)\n",
    "    count += 1"
   ]
  },
  {
   "cell_type": "code",
   "execution_count": 51,
   "id": "00cbec32-cd49-4365-878a-ed1748ed4354",
   "metadata": {},
   "outputs": [
    {
     "name": "stdout",
     "output_type": "stream",
     "text": [
      "hello,wijdan!\n"
     ]
    }
   ],
   "source": [
    "def function1(name):\n",
    "    print(f\"hello,{name}!\")\n",
    "\n",
    "function1(\"wijdan\")"
   ]
  },
  {
   "cell_type": "code",
   "execution_count": 60,
   "id": "988509a0-0894-4d97-800b-eff4330d8b60",
   "metadata": {},
   "outputs": [
    {
     "name": "stdin",
     "output_type": "stream",
     "text": [
      "Enter the first number : 8\n"
     ]
    },
    {
     "name": "stdout",
     "output_type": "stream",
     "text": [
      "1x8=8\n",
      "2x8=16\n",
      "3x8=24\n",
      "4x8=32\n",
      "5x8=40\n",
      "6x8=48\n",
      "7x8=56\n",
      "8x8=64\n",
      "9x8=72\n",
      "10x8=80\n"
     ]
    }
   ],
   "source": [
    "num  = int(input(\"Enter the first number :\"))\n",
    "\n",
    "for i in range(1,11):\n",
    "    print(f\"{i}x{num}={i*num}\")"
   ]
  },
  {
   "cell_type": "code",
   "execution_count": 59,
   "id": "a6f37346-307e-47cc-a839-eeebf22c6745",
   "metadata": {},
   "outputs": [
    {
     "name": "stdin",
     "output_type": "stream",
     "text": [
      "Enter a number: -9\n"
     ]
    },
    {
     "name": "stdout",
     "output_type": "stream",
     "text": [
      "negative num\n"
     ]
    }
   ],
   "source": [
    "num = float(input(\"Enter a number:\"))\n",
    "if num > 0:\n",
    "    print(\"Positive num\")\n",
    "elif num < 0:\n",
    "    print(\"negative num\")\n",
    "else:\n",
    "    print(\"=0\")"
   ]
  },
  {
   "cell_type": "code",
   "execution_count": 61,
   "id": "4b6539a3-94dc-401f-baac-16a945f9291c",
   "metadata": {},
   "outputs": [
    {
     "name": "stdin",
     "output_type": "stream",
     "text": [
      "أEnter a number:  10\n"
     ]
    },
    {
     "name": "stdout",
     "output_type": "stream",
     "text": [
      "الرقم 10Even.\n"
     ]
    }
   ],
   "source": [
    "num = int(input(\"أEnter a number: \"))\n",
    "if num % 2 == 0:\n",
    "    print(f\"الرقم {num}Even.\")\n",
    "else:\n",
    "    print(f\"الرقم {num} Odd.\")"
   ]
  },
  {
   "cell_type": "code",
   "execution_count": null,
   "id": "c6eb477a-1129-4c03-bc61-b428b0fffffd",
   "metadata": {},
   "outputs": [],
   "source": []
  }
 ],
 "metadata": {
  "kernelspec": {
   "display_name": "Python 3 (ipykernel)",
   "language": "python",
   "name": "python3"
  },
  "language_info": {
   "codemirror_mode": {
    "name": "ipython",
    "version": 3
   },
   "file_extension": ".py",
   "mimetype": "text/x-python",
   "name": "python",
   "nbconvert_exporter": "python",
   "pygments_lexer": "ipython3",
   "version": "3.12.7"
  }
 },
 "nbformat": 4,
 "nbformat_minor": 5
}
