{
 "cells": [
  {
   "cell_type": "code",
   "execution_count": 43,
   "id": "892d4e59-b4ca-4d2c-9438-1ea36a32abb7",
   "metadata": {},
   "outputs": [],
   "source": [
    "my_list=[1,2,3,4]"
   ]
  },
  {
   "cell_type": "code",
   "execution_count": 44,
   "id": "b5b6ef13-3927-4d3b-a46c-267aadea0a38",
   "metadata": {},
   "outputs": [
    {
     "data": {
      "text/plain": [
       "1"
      ]
     },
     "execution_count": 44,
     "metadata": {},
     "output_type": "execute_result"
    }
   ],
   "source": [
    "first_itm = my_list[0]\n",
    "first_itm"
   ]
  },
  {
   "cell_type": "code",
   "execution_count": 45,
   "id": "59353f36-2d38-4565-8d2b-2e63c887b748",
   "metadata": {},
   "outputs": [
    {
     "data": {
      "text/plain": [
       "[10, 2, 3, 4]"
      ]
     },
     "execution_count": 45,
     "metadata": {},
     "output_type": "execute_result"
    }
   ],
   "source": [
    "my_list[0]=10\n",
    "my_list"
   ]
  },
  {
   "cell_type": "code",
   "execution_count": 46,
   "id": "08683c19-79f4-4e97-84ac-28d32c4868f6",
   "metadata": {},
   "outputs": [
    {
     "data": {
      "text/plain": [
       "[10, 2, 3, 4, 5]"
      ]
     },
     "execution_count": 46,
     "metadata": {},
     "output_type": "execute_result"
    }
   ],
   "source": [
    "my_list.append(5)\n",
    "my_list"
   ]
  },
  {
   "cell_type": "code",
   "execution_count": 47,
   "id": "49996520-623e-404b-b20d-5207a186b588",
   "metadata": {},
   "outputs": [
    {
     "data": {
      "text/plain": [
       "[10, 2, 4, 5]"
      ]
     },
     "execution_count": 47,
     "metadata": {},
     "output_type": "execute_result"
    }
   ],
   "source": [
    "my_list.remove(3)\n",
    "my_list"
   ]
  },
  {
   "cell_type": "code",
   "execution_count": 48,
   "id": "d5097965-725f-4294-9d80-a0dbab61d87f",
   "metadata": {},
   "outputs": [
    {
     "data": {
      "text/plain": [
       "[2, 4]"
      ]
     },
     "execution_count": 48,
     "metadata": {},
     "output_type": "execute_result"
    }
   ],
   "source": [
    "sliced_list = my_list[1:3]\n",
    "sliced_list"
   ]
  },
  {
   "cell_type": "code",
   "execution_count": 49,
   "id": "2c6c7bdc-b6fb-41b6-a803-23bffc83bcc6",
   "metadata": {},
   "outputs": [
    {
     "name": "stdout",
     "output_type": "stream",
     "text": [
      "Sum of numbers: 150\n"
     ]
    }
   ],
   "source": [
    "numbers = [10, 20, 30, 40, 50]\n",
    "total = sum(numbers)\n",
    "print(\"Sum of numbers:\", total)"
   ]
  },
  {
   "cell_type": "code",
   "execution_count": 50,
   "id": "aa18aa82-5f6c-40f4-b0f2-1cbafe1de8d9",
   "metadata": {},
   "outputs": [
    {
     "data": {
      "text/plain": [
       "{'name': 'wijdan', 'age': 25}"
      ]
     },
     "execution_count": 50,
     "metadata": {},
     "output_type": "execute_result"
    }
   ],
   "source": [
    "my_dic= {\"name\":\"wijdan\",\"age\":25}\n",
    "my_dic"
   ]
  },
  {
   "cell_type": "code",
   "execution_count": 51,
   "id": "17bd9417-b6cf-4d41-8465-05a35dd3af45",
   "metadata": {},
   "outputs": [
    {
     "data": {
      "text/plain": [
       "{'name': 'wijdan', 'age': 25}"
      ]
     },
     "execution_count": 51,
     "metadata": {},
     "output_type": "execute_result"
    }
   ],
   "source": [
    "name=my_dic[\"name\"]\n",
    "my_dic"
   ]
  },
  {
   "cell_type": "code",
   "execution_count": 52,
   "id": "763588f7-77e1-41a0-ad59-f392a24d802c",
   "metadata": {},
   "outputs": [
    {
     "data": {
      "text/plain": [
       "{'name': 'wijdan', 'age': 25, 'city': 'Tabuk'}"
      ]
     },
     "execution_count": 52,
     "metadata": {},
     "output_type": "execute_result"
    }
   ],
   "source": [
    "my_dic[\"city\"]=\"Tabuk\"\n",
    "my_dic"
   ]
  },
  {
   "cell_type": "code",
   "execution_count": 53,
   "id": "50e67903-8da0-4a79-aa34-69c3f389af6f",
   "metadata": {},
   "outputs": [
    {
     "data": {
      "text/plain": [
       "{'name': 'wijdan', 'age': 30, 'city': 'Tabuk'}"
      ]
     },
     "execution_count": 53,
     "metadata": {},
     "output_type": "execute_result"
    }
   ],
   "source": [
    "my_dic[\"age\"] =30\n",
    "my_dic"
   ]
  },
  {
   "cell_type": "code",
   "execution_count": 54,
   "id": "aace6f0a-75ab-4803-8de7-222967c95455",
   "metadata": {},
   "outputs": [
    {
     "data": {
      "text/plain": [
       "{'age': 30, 'city': 'Tabuk'}"
      ]
     },
     "execution_count": 54,
     "metadata": {},
     "output_type": "execute_result"
    }
   ],
   "source": [
    "del my_dic[\"name\"]\n",
    "my_dic"
   ]
  },
  {
   "cell_type": "code",
   "execution_count": 55,
   "id": "58f883bb-401b-43c2-b403-de6e40c4d7b3",
   "metadata": {},
   "outputs": [
    {
     "data": {
      "text/plain": [
       "(1, 2, 3, 'hello', 4.5)"
      ]
     },
     "execution_count": 55,
     "metadata": {},
     "output_type": "execute_result"
    }
   ],
   "source": [
    "my_tuple= (1,2,3,\"hello\",4.5)\n",
    "my_tuple"
   ]
  },
  {
   "cell_type": "code",
   "execution_count": 58,
   "id": "860d1ab2-4d41-47a6-96ea-129630283285",
   "metadata": {},
   "outputs": [
    {
     "name": "stdout",
     "output_type": "stream",
     "text": [
      "3\n",
      "4.5\n"
     ]
    },
    {
     "data": {
      "text/plain": [
       "(2, 3, 'hello')"
      ]
     },
     "execution_count": 58,
     "metadata": {},
     "output_type": "execute_result"
    }
   ],
   "source": [
    "print(my_tuple[2])\n",
    "print(my_tuple[-1])\n",
    "sliced_tuple=my_tuple[1:4]\n",
    "sliced_tuple"
   ]
  },
  {
   "cell_type": "code",
   "execution_count": 59,
   "id": "6b165052-ec1f-47ab-8ca8-819edea267d5",
   "metadata": {},
   "outputs": [],
   "source": [
    "my_set={1,2,3,4}"
   ]
  },
  {
   "cell_type": "code",
   "execution_count": 60,
   "id": "3614c9ac-5f8e-41ce-a925-9e52581b3b3e",
   "metadata": {},
   "outputs": [
    {
     "data": {
      "text/plain": [
       "{1, 2, 3, 4, 5}"
      ]
     },
     "execution_count": 60,
     "metadata": {},
     "output_type": "execute_result"
    }
   ],
   "source": [
    "my_set.add(5)\n",
    "my_set"
   ]
  },
  {
   "cell_type": "code",
   "execution_count": 61,
   "id": "9d3d954d-8054-4258-8d13-ea0472b6b7da",
   "metadata": {},
   "outputs": [
    {
     "data": {
      "text/plain": [
       "{1, 2, 3, 4, 5, 6, 7}"
      ]
     },
     "execution_count": 61,
     "metadata": {},
     "output_type": "execute_result"
    }
   ],
   "source": [
    "my_set.update([6,7])\n",
    "my_set"
   ]
  },
  {
   "cell_type": "code",
   "execution_count": 62,
   "id": "e342dce1-62d5-4ea0-aff7-a4d96c16f839",
   "metadata": {},
   "outputs": [
    {
     "data": {
      "text/plain": [
       "{1, 2, 4, 5, 6, 7}"
      ]
     },
     "execution_count": 62,
     "metadata": {},
     "output_type": "execute_result"
    }
   ],
   "source": [
    "my_set.remove(3)\n",
    "my_set"
   ]
  },
  {
   "cell_type": "code",
   "execution_count": 63,
   "id": "8440018a-b236-4f47-a7cf-e7d53e5c01f0",
   "metadata": {},
   "outputs": [
    {
     "data": {
      "text/plain": [
       "{1, 2, 5, 6, 7}"
      ]
     },
     "execution_count": 63,
     "metadata": {},
     "output_type": "execute_result"
    }
   ],
   "source": [
    "my_set.discard(4)\n",
    "my_set"
   ]
  },
  {
   "cell_type": "code",
   "execution_count": 64,
   "id": "604887c4-3ecd-4485-8902-976f1307e1c4",
   "metadata": {},
   "outputs": [],
   "source": [
    "set1={1,2,3}\n",
    "set2={3,4,5}"
   ]
  },
  {
   "cell_type": "code",
   "execution_count": 65,
   "id": "1d9f99ee-413b-4eb8-83f6-72855ba00473",
   "metadata": {},
   "outputs": [
    {
     "data": {
      "text/plain": [
       "{1, 2, 3, 4, 5}"
      ]
     },
     "execution_count": 65,
     "metadata": {},
     "output_type": "execute_result"
    }
   ],
   "source": [
    "union_set = set1 | set2\n",
    "union_set"
   ]
  },
  {
   "cell_type": "code",
   "execution_count": 67,
   "id": "740974f6-136a-483c-b9a3-7922e49d5626",
   "metadata": {},
   "outputs": [
    {
     "data": {
      "text/plain": [
       "{3}"
      ]
     },
     "execution_count": 67,
     "metadata": {},
     "output_type": "execute_result"
    }
   ],
   "source": [
    "intersection_set = set1 & set2\n",
    "intersection_set"
   ]
  },
  {
   "cell_type": "code",
   "execution_count": 68,
   "id": "f8b8011c-63c5-40c7-b534-3972f426aa9e",
   "metadata": {},
   "outputs": [
    {
     "data": {
      "text/plain": [
       "{1, 2}"
      ]
     },
     "execution_count": 68,
     "metadata": {},
     "output_type": "execute_result"
    }
   ],
   "source": [
    "difference_set =set1-set2\n",
    "difference_set"
   ]
  },
  {
   "cell_type": "code",
   "execution_count": 71,
   "id": "b58088f2-7688-433e-b151-9c14b9c77d13",
   "metadata": {},
   "outputs": [
    {
     "data": {
      "text/plain": [
       "[1, 2, 3, 4, 5, 6, 7, 8, 9, 10]"
      ]
     },
     "execution_count": 71,
     "metadata": {},
     "output_type": "execute_result"
    }
   ],
   "source": [
    "mylist=list(range(1,11))\n",
    "mylist             "
   ]
  },
  {
   "cell_type": "code",
   "execution_count": 72,
   "id": "2794c1a3-270f-42b5-b309-118ecec999a0",
   "metadata": {},
   "outputs": [
    {
     "data": {
      "text/plain": [
       "[1, 2, 3, 4, 5, 6, 7, 8, 9, 10, 15]"
      ]
     },
     "execution_count": 72,
     "metadata": {},
     "output_type": "execute_result"
    }
   ],
   "source": [
    "mylist.append(15)\n",
    "mylist"
   ]
  },
  {
   "cell_type": "code",
   "execution_count": 73,
   "id": "7045ebfc-7b98-43a8-b42d-8aa8832e209f",
   "metadata": {},
   "outputs": [
    {
     "data": {
      "text/plain": [
       "[1, 20, 3, 4, 5, 6, 7, 8, 9, 10, 15]"
      ]
     },
     "execution_count": 73,
     "metadata": {},
     "output_type": "execute_result"
    }
   ],
   "source": [
    "mylist[1]=20\n",
    "mylist"
   ]
  },
  {
   "cell_type": "code",
   "execution_count": 74,
   "id": "acccfdaa-e222-4d88-9501-ef61d2c48c99",
   "metadata": {},
   "outputs": [
    {
     "data": {
      "text/plain": [
       "[3, 4, 5, 6, 7, 8, 9, 10, 15]"
      ]
     },
     "execution_count": 74,
     "metadata": {},
     "output_type": "execute_result"
    }
   ],
   "source": [
    "mylist[2:]"
   ]
  },
  {
   "cell_type": "code",
   "execution_count": null,
   "id": "f56057ff-af48-4734-84fb-a2341f8f0fa4",
   "metadata": {},
   "outputs": [],
   "source": []
  }
 ],
 "metadata": {
  "kernelspec": {
   "display_name": "Python 3 (ipykernel)",
   "language": "python",
   "name": "python3"
  },
  "language_info": {
   "codemirror_mode": {
    "name": "ipython",
    "version": 3
   },
   "file_extension": ".py",
   "mimetype": "text/x-python",
   "name": "python",
   "nbconvert_exporter": "python",
   "pygments_lexer": "ipython3",
   "version": "3.12.7"
  }
 },
 "nbformat": 4,
 "nbformat_minor": 5
}
